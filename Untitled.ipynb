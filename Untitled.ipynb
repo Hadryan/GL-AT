{
 "cells": [
  {
   "cell_type": "code",
   "execution_count": 17,
   "metadata": {},
   "outputs": [],
   "source": [
    "import _pickle as cPickle\n",
    "import _pickle\n",
    "statistics_path = '/data/dean/audioset_tagging_cnn/workspaces/statistics/main/sample_rate=32000,window_size=1024,hop_size=320,mel_bins=64,fmin=50,fmax=14000/data_type=full_train/Wavegram_Logmel_Cnn14/loss_type=clip_bce/balanced=balanced/augmentation=none/batch_size=16/N=5,length=4/statistics.pkl'\n",
    "a = cPickle.load(open(statistics_path, 'rb'))"
   ]
  },
  {
   "cell_type": "code",
   "execution_count": 18,
   "metadata": {},
   "outputs": [
    {
     "data": {
      "text/plain": [
       "dict_keys(['average_precision', 'auc', 'iteration'])"
      ]
     },
     "execution_count": 18,
     "metadata": {},
     "output_type": "execute_result"
    }
   ],
   "source": [
    "a['test'][0].keys()"
   ]
  },
  {
   "cell_type": "code",
   "execution_count": 19,
   "metadata": {},
   "outputs": [
    {
     "name": "stdout",
     "output_type": "stream",
     "text": [
      "mAP: 0.43980474169188677, mAUC: 0.9736958988045857, d: 2.740920013329348, iteration: 2000\n",
      "mAP: 0.4386719175297915, mAUC: 0.9735321845730993, d: 2.7371335011203413, iteration: 4000\n",
      "mAP: 0.43912150475787876, mAUC: 0.9737066986922098, d: 2.741170493590384, iteration: 6000\n",
      "mAP: 0.4404220487682619, mAUC: 0.9735286129559094, d: 2.737051112346769, iteration: 8000\n",
      "mAP: 0.44064997301814723, mAUC: 0.9737931825337165, d: 2.743179409185501, iteration: 10000\n",
      "mAP: 0.44064933310403137, mAUC: 0.97358354242923, d: 2.7383192340583546, iteration: 12000\n",
      "mAP: 0.43994694849216437, mAUC: 0.9736707418471379, d: 2.7403368847707164, iteration: 14000\n",
      "mAP: 0.44181025499101223, mAUC: 0.9737541929114494, d: 2.7422730421155617, iteration: 16000\n",
      "mAP: 0.44221385300243454, mAUC: 0.9739781560302493, d: 2.747494797343105, iteration: 18000\n",
      "mAP: 0.4415420090057283, mAUC: 0.9736111141242908, d: 2.7389565950571777, iteration: 20000\n",
      "mAP: 0.4422629144869602, mAUC: 0.973773834685603, d: 2.742729501192287, iteration: 22000\n",
      "mAP: 0.44106495300067333, mAUC: 0.9736603041671698, d: 2.740095080074428, iteration: 24000\n",
      "mAP: 0.44281390756012323, mAUC: 0.9738859165072267, d: 2.745339675653466, iteration: 26000\n",
      "mAP: 0.44204229260110345, mAUC: 0.9736852336706644, d: 2.7406727427437247, iteration: 28000\n",
      "mAP: 0.4415565928855011, mAUC: 0.973748271189845, d: 2.7421354820868418, iteration: 30000\n",
      "mAP: 0.4429137032837377, mAUC: 0.9737587586160977, d: 2.742379119945303, iteration: 32000\n",
      "mAP: 0.44369757283361266, mAUC: 0.9737747489835866, d: 2.7427507557050332, iteration: 34000\n",
      "mAP: 0.4431818158841502, mAUC: 0.9738671745599445, d: 2.7449025595766012, iteration: 36000\n",
      "mAP: 0.4432479857837992, mAUC: 0.9735682223073978, d: 2.7379653267563775, iteration: 38000\n",
      "mAP: 0.44277514696981357, mAUC: 0.9736345290380786, d: 2.7394983030088977, iteration: 40000\n",
      "mAP: 0.4412684774758571, mAUC: 0.973375529120421, d: 2.7335285296091936, iteration: 42000\n",
      "mAP: 0.44228017212899245, mAUC: 0.973635228822109, d: 2.7395144988167477, iteration: 44000\n",
      "mAP: 0.4423952188708226, mAUC: 0.9738012840737181, d: 2.743367882016218, iteration: 46000\n",
      "mAP: 0.44100291154142396, mAUC: 0.9735889166569842, d: 2.738443423740096, iteration: 48000\n",
      "mAP: 0.4425578220866813, mAUC: 0.9736263608681441, d: 2.7393092853783756, iteration: 50000\n",
      "mAP: 0.44216863270104745, mAUC: 0.9735551732972348, d: 2.7376640191486614, iteration: 52000\n",
      "mAP: 0.44430337331905034, mAUC: 0.9738268666392998, d: 2.7439633504884466, iteration: 54000\n",
      "mAP: 0.4421679047922068, mAUC: 0.9736755671648845, d: 2.740448697663277, iteration: 56000\n",
      "mAP: 0.44288582575540336, mAUC: 0.9735758222680461, d: 2.7381408706089565, iteration: 58000\n",
      "mAP: 0.4419850883814771, mAUC: 0.9732768217805177, d: 2.731266155682422, iteration: 60000\n",
      "mAP: 0.4428791876420653, mAUC: 0.9735904067020668, d: 2.738477860003278, iteration: 62000\n",
      "mAP: 0.44250038276519216, mAUC: 0.9733190015624388, d: 2.7322320615398046, iteration: 64000\n",
      "mAP: 0.4434534101780291, mAUC: 0.9735060338532262, d: 2.7365304806413424, iteration: 66000\n",
      "mAP: 0.4430367477112871, mAUC: 0.9733007360431811, d: 2.731813629532297, iteration: 68000\n",
      "mAP: 0.4424462579624834, mAUC: 0.9733185890100777, d: 2.7322226080257463, iteration: 70000\n",
      "mAP: 0.4403573498395138, mAUC: 0.9733840457795921, d: 2.733724059732098, iteration: 72000\n",
      "mAP: 0.44356254139884305, mAUC: 0.9732263927621457, d: 2.7301130141998375, iteration: 74000\n",
      "mAP: 0.4441215686589529, mAUC: 0.973476332512359, d: 2.7358461878122986, iteration: 76000\n",
      "mAP: 0.442508432066528, mAUC: 0.9734409642895597, d: 2.7350321696186133, iteration: 78000\n",
      "mAP: 0.4428772776312755, mAUC: 0.9731886749668205, d: 2.7292517205132656, iteration: 80000\n",
      "mAP: 0.4427529638123559, mAUC: 0.9732455371464066, d: 2.7305505679069824, iteration: 82000\n",
      "mAP: 0.44325390512031665, mAUC: 0.9732751157938693, d: 2.731227115837372, iteration: 84000\n",
      "mAP: 0.44313409015968486, mAUC: 0.9731356228791755, d: 2.7280419757672574, iteration: 86000\n",
      "mAP: 0.4426445311909989, mAUC: 0.9732069414388345, d: 2.7296687127610673, iteration: 88000\n",
      "mAP: 0.4428310594190211, mAUC: 0.9731787081784888, d: 2.729024295837891, iteration: 90000\n",
      "mAP: 0.4426934399902837, mAUC: 0.9731430470159067, d: 2.7282111479736773, iteration: 92000\n",
      "mAP: 0.44384191236465137, mAUC: 0.9734676416729794, d: 2.7356460795814823, iteration: 94000\n",
      "mAP: 0.44168016901330365, mAUC: 0.9731288854215004, d: 2.727888484549725, iteration: 96000\n",
      "mAP: 0.4422966011084842, mAUC: 0.9731020969180862, d: 2.7272785126706225, iteration: 98000\n",
      "mAP: 0.44264207959355906, mAUC: 0.9731945443738564, d: 2.7293856831430987, iteration: 100000\n",
      "mAP: 0.4414241790097331, mAUC: 0.9732836583432528, d: 2.731422624657458, iteration: 102000\n",
      "mAP: 0.4421305922509168, mAUC: 0.9730599161235509, d: 2.7263190868455864, iteration: 104000\n",
      "mAP: 0.4419551445962051, mAUC: 0.9731914830454649, d: 2.7293158087019598, iteration: 106000\n"
     ]
    }
   ],
   "source": [
    "from utils.utilities import (create_folder, get_filename, d_prime)\n",
    "import numpy as np\n",
    "for i in range(len(a['test'])):\n",
    "    print('mAP: '+str(np.mean(a['test'][i]['average_precision']))+', mAUC: '+str(np.mean(a['test'][i]['auc']))+', d: '+str(d_prime(np.mean(a['test'][i]['auc'])))+ ', iteration: '+str(a['test'][i]['iteration']))"
   ]
  },
  {
   "cell_type": "code",
   "execution_count": null,
   "metadata": {},
   "outputs": [],
   "source": []
  }
 ],
 "metadata": {
  "kernelspec": {
   "display_name": "Python 3",
   "language": "python",
   "name": "python3"
  },
  "language_info": {
   "codemirror_mode": {
    "name": "ipython",
    "version": 3
   },
   "file_extension": ".py",
   "mimetype": "text/x-python",
   "name": "python",
   "nbconvert_exporter": "python",
   "pygments_lexer": "ipython3",
   "version": "3.6.9"
  }
 },
 "nbformat": 4,
 "nbformat_minor": 4
}
