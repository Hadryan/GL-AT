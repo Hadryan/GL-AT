{
 "cells": [
  {
   "cell_type": "code",
   "execution_count": 17,
   "metadata": {},
   "outputs": [],
   "source": [
    "import _pickle as cPickle\n",
    "import _pickle\n",
    "statistics_path = '/data/dean/audioset_tagging_cnn/workspaces/statistics/main/sample_rate=32000,window_size=1024,hop_size=320,mel_bins=64,fmin=50,fmax=14000/data_type=full_train/Wavegram_Logmel_Cnn14/loss_type=clip_bce/balanced=balanced/augmentation=none/batch_size=16/N=5,length=4/statistics.pkl'\n",
    "a = cPickle.load(open(statistics_path, 'rb'))"
   ]
  },
  {
   "cell_type": "code",
   "execution_count": 18,
   "metadata": {},
   "outputs": [
    {
     "data": {
      "text/plain": [
       "dict_keys(['average_precision', 'auc', 'iteration'])"
      ]
     },
     "execution_count": 18,
     "metadata": {},
     "output_type": "execute_result"
    }
   ],
   "source": [
    "a['test'][0].keys()"
   ]
  },
  {
   "cell_type": "code",
   "execution_count": 19,
   "metadata": {},
   "outputs": [
    {
     "name": "stdout",
     "output_type": "stream",
     "text": [
      "mAP: 0.43980474169188677, mAUC: 0.9736958988045857, d: 2.740920013329348, iteration: 2000\n",
      "mAP: 0.4386719175297915, mAUC: 0.9735321845730993, d: 2.7371335011203413, iteration: 4000\n"
     ]
    }
   ],
   "source": [
    "from utils.utilities import (create_folder, get_filename, d_prime)\n",
    "import numpy as np\n",
    "for i in range(len(a['test'])):\n",
    "    print('mAP: '+str(np.mean(a['test'][i]['average_precision']))+', mAUC: '+str(np.mean(a['test'][i]['auc']))+', d: '+str(d_prime(np.mean(a['test'][i]['auc'])))+ ', iteration: '+str(a['test'][i]['iteration']))"
   ]
  },
  {
   "cell_type": "code",
   "execution_count": null,
   "metadata": {},
   "outputs": [],
   "source": []
  }
 ],
 "metadata": {
  "kernelspec": {
   "display_name": "Python 3",
   "language": "python",
   "name": "python3"
  },
  "language_info": {
   "codemirror_mode": {
    "name": "ipython",
    "version": 3
   },
   "file_extension": ".py",
   "mimetype": "text/x-python",
   "name": "python",
   "nbconvert_exporter": "python",
   "pygments_lexer": "ipython3",
   "version": "3.6.9"
  }
 },
 "nbformat": 4,
 "nbformat_minor": 4
}
